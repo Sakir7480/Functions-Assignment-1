{
  "nbformat": 4,
  "nbformat_minor": 0,
  "metadata": {
    "colab": {
      "provenance": []
    },
    "kernelspec": {
      "name": "python3",
      "display_name": "Python 3"
    },
    "language_info": {
      "name": "python"
    }
  },
  "cells": [
    {
      "cell_type": "markdown",
      "source": [],
      "metadata": {
        "id": "ZevGHPYwCZh0"
      }
    },
    {
      "cell_type": "markdown",
      "source": [
        "                                . Functions Assignment\n",
        "                                .Theory Questions:\n",
        "\n",
        "\n",
        "\n",
        " 1. What is the difference between a function and a method in Python?\n",
        "  - In Python, both functions and methods are used to perform specific tasks, but there are key differences between them\n",
        "\n",
        "  .Definition\n",
        "   -Function: A function is a block of reusable code that takes input, performs a specific operation, and returns an output. It can be defined using the def keyword and can be called independently.\n",
        "\n",
        "   .Method: A method is a function that is associated with an object (an instance of a class). It is called on an object and operates on that object's data. Methods are defined within a class and are usually accessed using the dot (.) notation.\n",
        " 2. Explain the concept of function arguments and parameters in Python.\n",
        "  - In Python, function arguments and parameters are crucial concepts that allow you to pass data into a function to perform specific tasks. Understanding how they work helps you write more flexible and reusable code.\n",
        "\n",
        "   .Function Parameters: A parameter is a variable that is defined in the function's declaration or definition. Parameters act as placeholders for the values that will be passed into the function when it is called.\n",
        "\n",
        "   .Function Arguments: An argument is the actual value or reference that is passed to the function when calling it. Arguments are the values you provide for the parameters when you invoke the function.\n",
        " 3. What are the different ways to define and call a function in Python?\n",
        "  -  In Python, functions can be defined and called in several ways. The flexibility of Python allows you to define functions in various forms, and the way you call them can depend on how they are defined. Below are the common methods to define and call a function in Python:\n",
        "\n",
        "  . Defining and Calling a Simple Function:This is the most basic way to define a function. You simply define a function using the def keyword, followed by the function name, parentheses, and a colon. The function can take parameters (optional) and return a value (optional).\n",
        "\n",
        "  . Function with Parameters:\n",
        "You can define functions that take parameters (also called arguments) to accept input values. These parameters can be used within the function body.\n",
        "\n",
        "  . Function with Return Value:Functions in Python can return a value using the return statement. This allows the function to provide output that can be used elsewhere.\n",
        "\n",
        "4. What is the purpose of the `return` statement in a Python function?\n",
        "\n",
        "   -The return statement in a Python function serves several important purposes:\n",
        "\n",
        "   . Returning a Value from the Function:The primary purpose of the return statement is to send a result back from the function to the caller. When a function is called, it can perform computations or operations, and then return a value that can be used elsewhere in the code.\n",
        "\n",
        "   . Ending the Function Execution:The return statement also immediately ends the function's execution, which means no code after the return statement in that function is executed. This is useful for controlling the flow of the function, especially in conditional situations.\n",
        "5. What are iterators in Python and how do they differ from iterables?\n",
        "\n",
        "  -In Python, iterators and iterables are closely related concepts, but they have distinct roles in the process of looping through data. Understanding the difference between the two is crucial for working with loops and data structures efficiently.\n",
        "  \n",
        "  . Iterable:An iterable is any Python object that can return an iterator. It is an object capable of returning its members one at a time, allowing it to be iterated over (looped through) in a for loop. Essentially, an iterable is an object that implements the __iter__() method or has a __getitem__() method.\n",
        "  \n",
        "  Examples of Iterables:\n",
        "Lists,\n",
        "Tuples,\n",
        "Strings,\n",
        "Dictionaries,\n",
        "Sets\n",
        "\n",
        "  . Iterator:An iterator is an object that keeps track of the current state during iteration. It is the actual object that is used to traverse through an iterable. An iterator must implement two methods:\n",
        "  \n",
        "  .__iter__(): Returns the iterator object itself (this makes it an iterator).\n",
        "  \n",
        "  .__next__(): Returns the next item from the collection and advances the iterator.\n",
        "\n",
        "6. Explain the concept of generators in Python and how they are defined.\n",
        "\n",
        " -In Python, generators are a type of iterable, like lists or tuples, but they differ in that they generate values one at a time and on demand, rather than storing them all in memory at once. This allows generators to be more memory-efficient, especially when working with large datasets or infinite sequences.\n",
        "\n",
        " .What is a Generator?\n",
        "\n",
        "  .A generator is a special type of iterator that can be iterated over (looped through) like a normal iterator, but it generates items lazily, meaning it produces values one at a time as needed. Instead of computing all items and storing them in memory, a generator computes each value on the fly when requested, which helps save memory.\n",
        "   \n",
        "   .Generators are defined using either:\n",
        "      \n",
        "      .Generator functions, which use the yield keyword.\n",
        "\n",
        "      .Generator expressions, which are similar to list comprehensions but use parentheses () instead of square brackets [].\n",
        "7. What are the advantages of using generators over regular functions?\n",
        "  \n",
        "  -Generators offer several significant advantages over regular functions in Python, especially when dealing with large datasets, infinite sequences, and memory efficiency. Here are the key advantages of using generators:\n",
        "\n",
        "  .Memory Efficiency: One of the most significant advantages of using generators is their memory efficiency.\n",
        "\n",
        " . Regular functions that return a collection (like a list or a tuple) will create and store the entire collection in memory, which can be costly if the collection is large.\n",
        "\n",
        " .Generators, on the other hand, generate values one at a time and do not store the entire sequence in memory. This means they can handle large datasets or even infinite sequences without using up large amounts of memory.\n",
        "\n",
        "\n",
        "  8. What is a lambda function in Python and when is it typically used?\n",
        "   \n",
        "   -A lambda function in Python is a small, anonymous function that is defined using the lambda keyword. Unlike regular functions defined with the def keyword, lambda functions are typically used for simple, short operations that can be expressed in a single line of code.\n",
        "\n",
        "   . lambda: The keyword that defines the function.\n",
        "\n",
        "   .arguments: The input parameters (similar to the parameters in a regular function).\n",
        "\n",
        "   .expression: The operation that is performed and returned when the function is called.\n",
        "\n",
        "9. Explain the purpose and usage of the `map()` function in Python.\n",
        "\n",
        " -The map() function in Python is a built-in function that allows you to apply a given function to each item of an iterable (like a list, tuple, etc.) and return an iterator (map object) that produces the results. The purpose of map() is to transform or process elements in an iterable without the need for explicit loops.\n",
        "\n",
        " .function: The function that will be applied to each item of the iterable. This function takes one or more arguments.\n",
        "\n",
        " .iterable: The iterable (e.g., list, tuple) whose elements the function will be applied to. You can also pass multiple iterables if the function takes more than one argument.\n",
        "\n",
        " . ...: Optionally, more iterables can be passed if the function takes multiple arguments.\n",
        "\n",
        "10. What is the difference between `map()`, `reduce()`, and `filter()` functions in Python?\n",
        "\n",
        " -In Python, the functions map(), reduce(), and filter() are all built-in functional programming tools for processing iterables (like lists, tuples, etc.). Each of them has a distinct purpose and operates in a different way to transform or aggregate data. Here's a breakdown of the differences between these functions:\n",
        "\n",
        " . map() Function\n",
        "\n",
        " .Purpose: The map() function applies a given function to each item of an iterable (like a list or tuple) and returns an iterator that produces the results. It’s used for transforming elements in an iterable.\n",
        "\n",
        " .Usage: You use map() when you want to apply a function to every item in an iterable and get a new iterable (or iterator) with the transformed values.\n",
        "\n",
        " .Return: An iterator that yields the results of the function applied to each element.\n",
        "\n",
        " .function: A function that takes one (or more) arguments and processes them.\n",
        "\n",
        " .iterable: The iterable to which the function is applied.\n",
        "\n",
        "11. Using pen & Paper write the internal mechanism for sum operation using  reduce function on this given\n",
        "list:[47,11,42,13];\n",
        "\n",
        " -Understanding the Internal Mechanism of the reduce() Function for Sum Operation\n",
        "\n",
        " . Let's break down the internal mechanism of the reduce() function step by step, using the provided list [47, 11, 42, 13] and performing a sum operation with a lambda function.\n",
        "\n",
        " The goal is to compute the sum of the elements in the list, i.e., 47 + 11 + 42 + 13.\n",
        "\n",
        " . Step-by-Step Breakdown\n",
        "  \n",
        "  . The reduce() function works by applying a binary function (in this case, the lambda function lambda x, y: x + y) to the first two elements of the iterable, then taking the result and applying the same function to the next element, and so on until all elements are processed.\n",
        "\n",
        "  . Initial Call to reduce():\n",
        "\n",
        "  The function starts by applying the lambda function to the first two elements of the list [47, 11, 42, 13].\n",
        "\n",
        "  . 1st Iteration:\n",
        "\n",
        "      x = 47 (first element of the list)\n",
        "\n",
        "      y = 11 (second element of the list)\n",
        "\n",
        "      Lambda function: x + y = 47 + 11 = 58\n",
        "\n",
        "      So, after the first iteration, the result becomes 58.\n",
        "\n",
        "      . 2nd Iteration:\n",
        "\n",
        "      x = 58 (result from the previous iteration)\n",
        "\n",
        "      y = 42 (third element of the list)\n",
        "\n",
        "      Lambda function: x + y = 58 + 42 = 100\n",
        "\n",
        "      So, after the second iteration, the result becomes 100.\n",
        "\n",
        "      . 3rd Iteration:\n",
        "\n",
        "      x = 100 (result from the previous iteration)\n",
        "\n",
        "      y = 13 (fourth element of the list)\n",
        "\n",
        "      Lambda function: x + y = 100 + 13 = 113\n",
        "\n",
        "      So, after the third iteration, the result becomes 113.\n",
        "\n",
        "      .Final Result:\n",
        "\n",
        "      At the end of the third iteration, the final result is 113.\n",
        "\n",
        "\n",
        "                   Practical Questions:\n",
        "\n",
        "    1.\n",
        "1. Write a Python function that takes a list of numbers as input and returns the sum of all even numbers in\n",
        "the list.\n",
        "\n",
        "\n",
        "\n",
        "\n",
        "\n",
        "\n",
        "\n",
        "\n",
        "\n",
        "\n",
        "\n",
        "\n",
        "\n",
        "\n",
        "\n",
        "\n",
        "\n",
        "\n",
        "\n",
        "\n",
        "\n",
        "\n",
        "\n",
        "\n",
        "\n",
        "\n",
        "\n",
        "\n",
        "\n",
        "\n",
        "\n",
        "\n",
        "\n",
        "\n",
        "\n",
        "\n",
        "\n",
        "\n",
        "\n",
        "\n",
        "\n",
        "\n",
        "\n",
        "\n",
        "\n",
        "\n",
        "\n",
        "\n",
        "\n",
        "\n",
        "\n",
        "\n",
        "\n",
        "\n",
        "\n",
        "\n",
        "\n",
        "\n",
        "\n",
        "\n",
        "\n",
        "\n",
        "\n",
        "\n",
        "\n",
        "\n",
        "\n",
        "\n",
        "\n",
        "\n",
        "\n",
        "\n",
        "\n",
        "\n",
        "\n",
        "\n",
        "\n",
        "\n",
        "\n",
        "\n",
        "\n",
        "\n",
        "\n",
        "\n",
        "\n",
        "\n",
        "\n",
        "\n",
        "\n",
        "\n",
        "\n",
        "\n"
      ],
      "metadata": {
        "id": "6SWQdGWkCgCA"
      }
    },
    {
      "cell_type": "code",
      "source": [
        "def sum_of_even_numbers(numbers):\n",
        "    # Initialize a variable to store the sum of even numbers\n",
        "    total = 0\n",
        "\n",
        "    # Iterate through the list of numbers\n",
        "    for num in numbers:\n",
        "        # Check if the number is even\n",
        "        if num % 2 == 0:\n",
        "            total += num  # Add the even number to the sum\n",
        "\n",
        "    # Return the total sum of even numbers\n",
        "    return total\n"
      ],
      "metadata": {
        "id": "Vqavo43cRuej"
      },
      "execution_count": 2,
      "outputs": []
    },
    {
      "cell_type": "code",
      "source": [
        "numbers = [47, 11, 42, 13, 8, 50, 31]\n",
        "result = sum_of_even_numbers(numbers)\n",
        "print(\"Sum of even numbers:\", result)\n"
      ],
      "metadata": {
        "colab": {
          "base_uri": "https://localhost:8080/"
        },
        "id": "zytdRX7JQz5s",
        "outputId": "6a92c205-04d9-4da4-999f-e75471144180"
      },
      "execution_count": 3,
      "outputs": [
        {
          "output_type": "stream",
          "name": "stdout",
          "text": [
            "Sum of even numbers: 100\n"
          ]
        }
      ]
    },
    {
      "cell_type": "markdown",
      "source": [
        "2. Create a Python function that accepts a string and returns the reverse of that string."
      ],
      "metadata": {
        "id": "41TM_qJaSVHi"
      }
    },
    {
      "cell_type": "markdown",
      "source": [
        "\n",
        "\n"
      ],
      "metadata": {
        "id": "Gusvogq3Q1LW"
      }
    },
    {
      "cell_type": "code",
      "source": [
        "def reverse_string(s):\n",
        "    # Return the reversed string using slicing\n",
        "    return s[::-1]\n"
      ],
      "metadata": {
        "id": "-gtRk3JKQI49"
      },
      "execution_count": 6,
      "outputs": []
    },
    {
      "cell_type": "code",
      "source": [
        "input_string = \"Hello, World!\"\n",
        "reversed_string = reverse_string(input_string)\n",
        "print(\"Reversed string:\", reversed_string)\n",
        "\n"
      ],
      "metadata": {
        "colab": {
          "base_uri": "https://localhost:8080/"
        },
        "id": "inI1in2ESqxh",
        "outputId": "8cc96054-89a4-4072-bd23-b66d8029964e"
      },
      "execution_count": 7,
      "outputs": [
        {
          "output_type": "stream",
          "name": "stdout",
          "text": [
            "Reversed string: !dlroW ,olleH\n"
          ]
        }
      ]
    },
    {
      "cell_type": "markdown",
      "source": [
        "3. Implement a Python function that takes a list of integers and returns a new list containing the squares of\n",
        "each number."
      ],
      "metadata": {
        "id": "XLjH7ZXaTDMA"
      }
    },
    {
      "cell_type": "code",
      "source": [
        "def square_numbers(numbers):\n",
        "    # Using list comprehension to square each number in the list\n",
        "    return [num ** 2 for num in numbers]\n"
      ],
      "metadata": {
        "id": "3-2Vh-lETJzg"
      },
      "execution_count": 8,
      "outputs": []
    },
    {
      "cell_type": "code",
      "source": [
        "numbers = [1, 2, 3, 4, 5]\n",
        "squared_numbers = square_numbers(numbers)\n",
        "print(\"Squared numbers:\", squared_numbers)\n"
      ],
      "metadata": {
        "colab": {
          "base_uri": "https://localhost:8080/"
        },
        "id": "_J-x-HjyTPDj",
        "outputId": "43db8606-2b24-48f7-9c1b-f4031796a4c3"
      },
      "execution_count": 9,
      "outputs": [
        {
          "output_type": "stream",
          "name": "stdout",
          "text": [
            "Squared numbers: [1, 4, 9, 16, 25]\n"
          ]
        }
      ]
    },
    {
      "cell_type": "markdown",
      "source": [
        "4. Write a Python function that checks if a given number is prime or not from 1 to 200."
      ],
      "metadata": {
        "id": "MQ9bLRzCTVFn"
      }
    },
    {
      "cell_type": "code",
      "source": [
        "import math\n",
        "\n",
        "def is_prime(number):\n",
        "    # Check if the number is less than 2 (1 and below are not prime)\n",
        "    if number < 2:\n",
        "        return False\n",
        "\n",
        "    # Check for divisibility from 2 to the square root of the number\n",
        "    for i in range(2, int(math.sqrt(number)) + 1):\n",
        "        if number % i == 0:\n",
        "            return False  # If divisible by any number other than 1 and itself, it's not prime\n",
        "\n",
        "    return True  # If no divisors were found, it's prime\n",
        "\n",
        "# Test the function with numbers from 1 to 200\n",
        "for num in range(1, 201):\n",
        "    if is_prime(num):\n",
        "        print(f\"{num} is prime\")\n"
      ],
      "metadata": {
        "colab": {
          "base_uri": "https://localhost:8080/"
        },
        "id": "wGDVUuRTTcpk",
        "outputId": "d7a43bdb-f320-4660-bfcd-3ba4b4301e4c"
      },
      "execution_count": 10,
      "outputs": [
        {
          "output_type": "stream",
          "name": "stdout",
          "text": [
            "2 is prime\n",
            "3 is prime\n",
            "5 is prime\n",
            "7 is prime\n",
            "11 is prime\n",
            "13 is prime\n",
            "17 is prime\n",
            "19 is prime\n",
            "23 is prime\n",
            "29 is prime\n",
            "31 is prime\n",
            "37 is prime\n",
            "41 is prime\n",
            "43 is prime\n",
            "47 is prime\n",
            "53 is prime\n",
            "59 is prime\n",
            "61 is prime\n",
            "67 is prime\n",
            "71 is prime\n",
            "73 is prime\n",
            "79 is prime\n",
            "83 is prime\n",
            "89 is prime\n",
            "97 is prime\n",
            "101 is prime\n",
            "103 is prime\n",
            "107 is prime\n",
            "109 is prime\n",
            "113 is prime\n",
            "127 is prime\n",
            "131 is prime\n",
            "137 is prime\n",
            "139 is prime\n",
            "149 is prime\n",
            "151 is prime\n",
            "157 is prime\n",
            "163 is prime\n",
            "167 is prime\n",
            "173 is prime\n",
            "179 is prime\n",
            "181 is prime\n",
            "191 is prime\n",
            "193 is prime\n",
            "197 is prime\n",
            "199 is prime\n"
          ]
        }
      ]
    },
    {
      "cell_type": "markdown",
      "source": [
        "5. Create an iterator class in Python that generates the Fibonacci sequence up to a specified number of\n",
        "terms."
      ],
      "metadata": {
        "id": "5V8n3LbqToFc"
      }
    },
    {
      "cell_type": "code",
      "source": [
        "class FibonacciIterator:\n",
        "    def __init__(self, n):\n",
        "        # Initialize the number of terms and starting values for Fibonacci sequence\n",
        "        self.n = n\n",
        "        self.a, self.b = 0, 1  # First two Fibonacci numbers\n",
        "        self.count = 0  # To keep track of the number of terms generated\n",
        "\n",
        "    def __iter__(self):\n",
        "        # Return the iterator object itself\n",
        "        return self\n",
        "\n",
        "    def __next__(self):\n",
        "        # Check if we have already generated `n` terms\n",
        "        if self.count >= self.n:\n",
        "            raise StopIteration  # No more terms to generate\n",
        "\n",
        "        # Generate the next Fibonacci number\n",
        "        self.count += 1\n",
        "        fib = self.a\n",
        "        self.a, self.b = self.b, self.a + self.b  # Update the Fibonacci numbers\n",
        "        return fib\n",
        "\n",
        "# Example usage of the FibonacciIterator\n",
        "n_terms = 10\n",
        "fib_iter = FibonacciIterator(n_terms)\n",
        "\n",
        "# Using the iterator to print Fibonacci numbers\n",
        "for num in fib_iter:\n",
        "    print(num)\n"
      ],
      "metadata": {
        "colab": {
          "base_uri": "https://localhost:8080/"
        },
        "id": "d5vk0IxGTnsQ",
        "outputId": "53963b47-a742-4359-cfb4-6b7fd1f6067c"
      },
      "execution_count": 11,
      "outputs": [
        {
          "output_type": "stream",
          "name": "stdout",
          "text": [
            "0\n",
            "1\n",
            "1\n",
            "2\n",
            "3\n",
            "5\n",
            "8\n",
            "13\n",
            "21\n",
            "34\n"
          ]
        }
      ]
    },
    {
      "cell_type": "markdown",
      "source": [
        "6. Write a generator function in Python that yields the powers of 2 up to a given exponent."
      ],
      "metadata": {
        "id": "ISGZUW3DUAdP"
      }
    },
    {
      "cell_type": "code",
      "source": [
        "def powers_of_2(n):\n",
        "    # Iterate over the range from 0 to n (inclusive)\n",
        "    for i in range(n + 1):\n",
        "        # Yield 2 raised to the power of i\n",
        "        yield 2 ** i\n",
        "\n",
        "# Example usage of the generator\n",
        "n = 5\n",
        "for power in powers_of_2(n):\n",
        "    print(power)\n"
      ],
      "metadata": {
        "colab": {
          "base_uri": "https://localhost:8080/"
        },
        "id": "AFJa0XOGUHv9",
        "outputId": "0650dc22-4f5b-419a-d4c5-6cfe9d5ccdf0"
      },
      "execution_count": 12,
      "outputs": [
        {
          "output_type": "stream",
          "name": "stdout",
          "text": [
            "1\n",
            "2\n",
            "4\n",
            "8\n",
            "16\n",
            "32\n"
          ]
        }
      ]
    },
    {
      "cell_type": "markdown",
      "source": [
        "7. Implement a generator function that reads a file line by line and yields each line as a string."
      ],
      "metadata": {
        "id": "GNXLDpNBUPZl"
      }
    },
    {
      "cell_type": "code",
      "source": [
        "def read_file_line_by_line(file_path):\n",
        "    # Open the file in read mode\n",
        "    with open(file_path, 'r') as file:\n",
        "        # Iterate over each line in the file\n",
        "        for line in file:\n",
        "            # Yield each line (strip() removes trailing newline characters)\n",
        "            yield line.strip()\n",
        "\n",
        "# Example usage of the generator function\n",
        "file_path = 'example.txt'  # Replace with the path to your file\n",
        "\n",
        "# Using the generator to read the file line by line\n",
        "for line in read_file_line_by_line(file_path):\n",
        "    print(line)\n"
      ],
      "metadata": {
        "id": "S3YoSB3NWBud"
      },
      "execution_count": null,
      "outputs": []
    },
    {
      "cell_type": "markdown",
      "source": [
        "8. Use a lambda function in Python to sort a list of tuples based on the second element of each tuple."
      ],
      "metadata": {
        "id": "jrA2r40gWEAD"
      }
    },
    {
      "cell_type": "code",
      "source": [
        "# List of tuples\n",
        "data = [(1, 3), (2, 1), (4, 2), (3, 4)]\n",
        "\n",
        "# Sort the list of tuples based on the second element of each tuple\n",
        "sorted_data = sorted(data, key=lambda x: x[1])\n",
        "\n",
        "# Output the sorted list\n",
        "print(sorted_data)\n",
        "\n"
      ],
      "metadata": {
        "colab": {
          "base_uri": "https://localhost:8080/"
        },
        "id": "X6dWhB20WJva",
        "outputId": "e0192103-7d15-42bc-8a25-356b967b1b57"
      },
      "execution_count": 19,
      "outputs": [
        {
          "output_type": "stream",
          "name": "stdout",
          "text": [
            "[(2, 1), (4, 2), (1, 3), (3, 4)]\n"
          ]
        }
      ]
    },
    {
      "cell_type": "markdown",
      "source": [
        "9. Write a Python program that uses `map()` to convert a list of temperatures from Celsius to Fahrenheit."
      ],
      "metadata": {
        "id": "xUxQLrlnWSRo"
      }
    },
    {
      "cell_type": "code",
      "source": [
        "# List of temperatures in Celsius\n",
        "celsius_temps = [0, 10, 20, 30, 40, 100]\n",
        "\n",
        "# Function to convert Celsius to Fahrenheit\n",
        "def celsius_to_fahrenheit(celsius):\n",
        "    return (9/5) * celsius + 32\n",
        "\n",
        "# Use map() to apply the conversion function to each element in the list\n",
        "fahrenheit_temps = map(celsius_to_fahrenheit, celsius_temps)\n",
        "\n",
        "# Convert the map object to a list to display the results\n",
        "fahrenheit_temps_list = list(fahrenheit_temps)\n",
        "\n",
        "# Output the converted temperatures\n",
        "print(fahrenheit_temps_list)\n"
      ],
      "metadata": {
        "colab": {
          "base_uri": "https://localhost:8080/"
        },
        "id": "0U9zwjU5WWZR",
        "outputId": "318fc3fc-a81e-4f53-d58e-f82582300c84"
      },
      "execution_count": 20,
      "outputs": [
        {
          "output_type": "stream",
          "name": "stdout",
          "text": [
            "[32.0, 50.0, 68.0, 86.0, 104.0, 212.0]\n"
          ]
        }
      ]
    },
    {
      "cell_type": "code",
      "source": [
        "# List of temperatures in Celsius\n",
        "celsius_temps = [0, 10, 20, 30, 40, 100]\n",
        "\n",
        "# Use map() with a lambda function to convert Celsius to Fahrenheit\n",
        "fahrenheit_temps = map(lambda c: (9/5) * c + 32, celsius_temps)\n",
        "\n",
        "# Convert the map object to a list to display the results\n",
        "fahrenheit_temps_list = list(fahrenheit_temps)\n",
        "\n",
        "# Output the converted temperatures\n",
        "print(fahrenheit_temps_list)\n"
      ],
      "metadata": {
        "colab": {
          "base_uri": "https://localhost:8080/"
        },
        "id": "GUDqkpsKWlz-",
        "outputId": "0d752a20-4368-4588-c3d5-93e72d8c3fd7"
      },
      "execution_count": 21,
      "outputs": [
        {
          "output_type": "stream",
          "name": "stdout",
          "text": [
            "[32.0, 50.0, 68.0, 86.0, 104.0, 212.0]\n"
          ]
        }
      ]
    },
    {
      "cell_type": "markdown",
      "source": [],
      "metadata": {
        "id": "-gT9ISRLWrn-"
      }
    },
    {
      "cell_type": "markdown",
      "source": [
        "10. Create a Python program that uses `filter()` to remove all the vowels from a given string."
      ],
      "metadata": {
        "id": "_B60u_MbWvQ5"
      }
    },
    {
      "cell_type": "code",
      "source": [
        "# Function to check if a character is not a vowel\n",
        "def is_not_vowel(char):\n",
        "    return char.lower() not in 'aeiou'\n",
        "\n",
        "# Given string\n",
        "input_string = \"Hello World\"\n",
        "\n",
        "# Use filter() to remove vowels\n",
        "filtered_string = filter(is_not_vowel, input_string)\n",
        "\n",
        "# Convert the filter object to a string and display the result\n",
        "result = ''.join(filtered_string)\n",
        "\n",
        "# Output the result\n",
        "print(result)\n"
      ],
      "metadata": {
        "colab": {
          "base_uri": "https://localhost:8080/"
        },
        "id": "ENKhnaCpWrQn",
        "outputId": "bc6cbd10-f680-4c3d-ffd4-ac6dde17b016"
      },
      "execution_count": 22,
      "outputs": [
        {
          "output_type": "stream",
          "name": "stdout",
          "text": [
            "Hll Wrld\n"
          ]
        }
      ]
    },
    {
      "cell_type": "code",
      "source": [
        "# Given string\n",
        "input_string = \"Hello World\"\n",
        "\n",
        "# Use filter() with a lambda function to remove vowels\n",
        "filtered_string = filter(lambda char: char.lower() not in 'aeiou', input_string)\n",
        "\n",
        "# Convert the filter object to a string and display the result\n",
        "result = ''.join(filtered_string)\n",
        "\n",
        "# Output the result\n",
        "print(result)\n"
      ],
      "metadata": {
        "colab": {
          "base_uri": "https://localhost:8080/"
        },
        "id": "BNE9Hn80W-kO",
        "outputId": "68665d53-522b-40b5-c809-6d361aa900ab"
      },
      "execution_count": 23,
      "outputs": [
        {
          "output_type": "stream",
          "name": "stdout",
          "text": [
            "Hll Wrld\n"
          ]
        }
      ]
    },
    {
      "cell_type": "markdown",
      "source": [
        "11) Imagine an accounting routine used in a book shop. It works on a list with sublists, which look like this:\n",
        "\n",
        "Write a Python program, which returns a list with 2-tuples. Each tuple consists of the order number and the\n",
        "product of the price per item and the quantity. The product should be increased by 10,- € if the value of the\n",
        "order is smaller than 100,00 €.\n",
        "\n",
        "Write a Python program using lambda and map."
      ],
      "metadata": {
        "id": "v_RWhqscXDP1"
      }
    },
    {
      "cell_type": "markdown",
      "source": [],
      "metadata": {
        "id": "FNZiSxmUCc7S"
      }
    },
    {
      "cell_type": "code",
      "source": [
        "\n",
        "# List of orders in the format [order_number, price_per_item, quantity]\n",
        "orders = [\n",
        "    [1, 15.50, 4],   # order number 1, price per item 15.50, quantity 4\n",
        "    [2, 25.00, 3],   # order number 2, price per item 25.00, quantity 3\n",
        "    [3, 8.00, 10],   # order number 3, price per item 8.00, quantity 10\n",
        "    [4, 40.00, 5]    # order number 4, price per item 40.00, quantity 5\n",
        "]\n",
        "\n",
        "# Lambda function to calculate the total price and add 10 EUR if the value is less than 100\n",
        "order_totals = map(lambda order: (\n",
        "    order[0],\n",
        "    (order[1] * order[2]) + 10 if (order[1] * order[2]) < 100 else order[1] * order[2]\n",
        "), orders)\n",
        "\n",
        "# Convert the map object to a list and display the result\n",
        "result = list(order_totals)\n",
        "\n",
        "# Output the result\n",
        "print(result)\n"
      ],
      "metadata": {
        "colab": {
          "base_uri": "https://localhost:8080/"
        },
        "id": "RSjBQp0MX_Rj",
        "outputId": "7067c734-69ab-4d3a-f26a-977b8b239127"
      },
      "execution_count": 26,
      "outputs": [
        {
          "output_type": "stream",
          "name": "stdout",
          "text": [
            "[(1, 72.0), (2, 85.0), (3, 90.0), (4, 200.0)]\n"
          ]
        }
      ]
    },
    {
      "cell_type": "code",
      "source": [],
      "metadata": {
        "id": "1WWhG_fmYDa8"
      },
      "execution_count": null,
      "outputs": []
    }
  ]
}